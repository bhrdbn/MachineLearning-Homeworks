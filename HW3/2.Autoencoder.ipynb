{
  "cells": [
    {
      "cell_type": "markdown",
      "metadata": {
        "id": "y76YJmGLiq6Y"
      },
      "source": [
        "<img src='http://www-scf.usc.edu/~ghasemig/images/sharif.png' alt=\"SUT logo\" width=200 height=200 align=left class=\"saturate\" >\n",
        "\n",
        "<br>\n",
        "<font face=\"Times New Roman\">\n",
        "<div dir=ltr align=center>\n",
        "<font color=0F5298 size=7>\n",
        "    Introduction to Machine Learning <br>\n",
        "<font color=2565AE size=5>\n",
        "    Computer Engineering Department <br>\n",
        "    Fall 2022<br>\n",
        "<font color=3C99D size=5>\n",
        "    Homework 3: Practical - Neural Network <br>\n",
        "<font color=696880 size=4>\n",
        "    Alireza Belal\n",
        "    \n",
        "    \n",
        "____\n"
      ]
    },
    {
      "cell_type": "markdown",
      "metadata": {
        "id": "3Z96CdhGiq6h"
      },
      "source": [
        "### Full Name :  Bahar Dibaeinia\n",
        "### Student Number :  99105442\n",
        "___"
      ]
    },
    {
      "cell_type": "markdown",
      "metadata": {
        "id": "QDlfsMdgiq6i"
      },
      "source": [
        "# Setup"
      ]
    },
    {
      "cell_type": "markdown",
      "metadata": {
        "id": "onx9SKbriq6j"
      },
      "source": [
        "# 0. Preparation\n",
        "\n",
        "In this part, you will use a dataset related to COVID-19. Load your dataset using pandas."
      ]
    },
    {
      "cell_type": "code",
      "execution_count": 1,
      "metadata": {
        "id": "EyhWTSebiq6j"
      },
      "outputs": [],
      "source": [
        "import pandas as pd\n",
        "from sklearn.preprocessing import LabelEncoder\n",
        "covid_data = pd.read_csv('Covid Dataset.csv')\n",
        "categorical_feature_mask = covid_data.dtypes == object\n",
        "cateforical_cols = covid_data.columns[categorical_feature_mask].tolist()\n",
        "le = LabelEncoder()\n",
        "covid_data[cateforical_cols] = covid_data[cateforical_cols].apply(lambda col: le.fit_transform(col))\n",
        "covid_data = covid_data.astype(float)\n",
        "\n",
        "# Extract X and Y from the dataset\n",
        "X_total = covid_data.iloc[:, 0:20].values\n",
        "y_total = covid_data.iloc[:,20].values\n",
        "\n",
        "\n",
        "#SPLIT THE DATA INTO TRAIN AND TEST DATA \n",
        "from sklearn.model_selection import train_test_split\n",
        "X_train, X_test, y_train, y_test = train_test_split(X_total, y_total, test_size = 0.3, random_state = 0)"
      ]
    },
    {
      "cell_type": "markdown",
      "metadata": {
        "id": "vrHcFMoDiq6k"
      },
      "source": [
        "---------------"
      ]
    },
    {
      "cell_type": "markdown",
      "metadata": {
        "id": "SD1sPVHciq6l"
      },
      "source": [
        "# 1. DNN as nonlinear dimensionality reduction method (50 Points)\n",
        "\n",
        "Autoencoder is an unsupervised artificial neural network that compresses the data to lower dimension and then reconstructs the input back. Autoencoder finds the representation of the data in a lower dimension by focusing more on the important features getting rid of noise and redundancy. It's based on Encoder-Decoder architecture, where encoder encodes the high-dimensional data to lower-dimension and decoder takes the lower-dimensional data and tries to reconstruct the original high-dimensional data.\n",
        "\n",
        "![picture](https://drive.google.com/uc?id=1RTZwx4xL6zFV_nUENBgWlFKLKldPoyI-)\n",
        "\n",
        "In the above Diagram, X is the input data, z is the lower-dimension representation of input X and X’ is the reconstructed input data. The mapping of higher to lower dimensions can be linear or non-linear depending on the choice of the activation function.\n",
        "\n",
        "In this part you're gonna implement an autoencoder using Keras framework as dimensionally reduction module as explained [here](https://blog.keras.io/building-autoencoders-in-keras.html).\n",
        "(It would be ok to use PyTorch as well.)\n",
        "Reduce the dimension of the data to 2 dimensions and visualize the low-dimensional data."
      ]
    },
    {
      "cell_type": "code",
      "execution_count": 7,
      "metadata": {
        "id": "moGEgpV999cl"
      },
      "outputs": [],
      "source": [
        "# import necessary libraries\n",
        "import keras\n",
        "from keras import layers\n",
        "import numpy as np\n",
        "import matplotlib.pyplot as plt\n",
        "\n",
        "plt.style.use('ggplot')"
      ]
    },
    {
      "cell_type": "code",
      "source": [
        "print(X_train.shape)"
      ],
      "metadata": {
        "colab": {
          "base_uri": "https://localhost:8080/"
        },
        "id": "u694RJTZm9JY",
        "outputId": "b742878d-5aa5-4dd3-b62f-519d38ac2a7d"
      },
      "execution_count": 3,
      "outputs": [
        {
          "output_type": "stream",
          "name": "stdout",
          "text": [
            "(3803, 20)\n"
          ]
        }
      ]
    },
    {
      "cell_type": "code",
      "execution_count": 25,
      "metadata": {
        "id": "kwrXUCpuiq6m"
      },
      "outputs": [],
      "source": [
        "# define layers (25 Points)\n",
        "input_data = keras.Input(shape=(20,))\n",
        "encoded = layers.Dense(16, activation='relu')(input_data)\n",
        "encoded = layers.Dense(10, activation='relu')(encoded)\n",
        "encoded = layers.Dense(2, activation='relu')(encoded)\n",
        "encoder = keras.Model(input_data, encoded)\n",
        "\n",
        "decoded = layers.Dense(5, activation='relu')(encoded)\n",
        "decoded = layers.Dense(10, activation='relu')(decoded)\n",
        "decoded = layers.Dense(20, activation='sigmoid')(decoded)"
      ]
    },
    {
      "cell_type": "code",
      "execution_count": 26,
      "metadata": {
        "colab": {
          "base_uri": "https://localhost:8080/"
        },
        "id": "CY80isxbiq6m",
        "outputId": "fb4a64d6-2f87-46ba-f3f4-e6aa1241b4d1"
      },
      "outputs": [
        {
          "output_type": "stream",
          "name": "stdout",
          "text": [
            "Epoch 1/100\n",
            "15/15 [==============================] - 1s 19ms/step - loss: 0.6907 - val_loss: 0.6878\n",
            "Epoch 2/100\n",
            "15/15 [==============================] - 0s 6ms/step - loss: 0.6851 - val_loss: 0.6810\n",
            "Epoch 3/100\n",
            "15/15 [==============================] - 0s 5ms/step - loss: 0.6768 - val_loss: 0.6709\n",
            "Epoch 4/100\n",
            "15/15 [==============================] - 0s 5ms/step - loss: 0.6651 - val_loss: 0.6572\n",
            "Epoch 5/100\n",
            "15/15 [==============================] - 0s 6ms/step - loss: 0.6496 - val_loss: 0.6401\n",
            "Epoch 6/100\n",
            "15/15 [==============================] - 0s 6ms/step - loss: 0.6311 - val_loss: 0.6217\n",
            "Epoch 7/100\n",
            "15/15 [==============================] - 0s 5ms/step - loss: 0.6133 - val_loss: 0.6059\n",
            "Epoch 8/100\n",
            "15/15 [==============================] - 0s 6ms/step - loss: 0.5991 - val_loss: 0.5940\n",
            "Epoch 9/100\n",
            "15/15 [==============================] - 0s 5ms/step - loss: 0.5890 - val_loss: 0.5860\n",
            "Epoch 10/100\n",
            "15/15 [==============================] - 0s 6ms/step - loss: 0.5824 - val_loss: 0.5806\n",
            "Epoch 11/100\n",
            "15/15 [==============================] - 0s 5ms/step - loss: 0.5780 - val_loss: 0.5771\n",
            "Epoch 12/100\n",
            "15/15 [==============================] - 0s 5ms/step - loss: 0.5749 - val_loss: 0.5746\n",
            "Epoch 13/100\n",
            "15/15 [==============================] - 0s 5ms/step - loss: 0.5724 - val_loss: 0.5726\n",
            "Epoch 14/100\n",
            "15/15 [==============================] - 0s 5ms/step - loss: 0.5704 - val_loss: 0.5707\n",
            "Epoch 15/100\n",
            "15/15 [==============================] - 0s 6ms/step - loss: 0.5686 - val_loss: 0.5692\n",
            "Epoch 16/100\n",
            "15/15 [==============================] - 0s 5ms/step - loss: 0.5671 - val_loss: 0.5679\n",
            "Epoch 17/100\n",
            "15/15 [==============================] - 0s 6ms/step - loss: 0.5657 - val_loss: 0.5666\n",
            "Epoch 18/100\n",
            "15/15 [==============================] - 0s 6ms/step - loss: 0.5642 - val_loss: 0.5651\n",
            "Epoch 19/100\n",
            "15/15 [==============================] - 0s 6ms/step - loss: 0.5629 - val_loss: 0.5642\n",
            "Epoch 20/100\n",
            "15/15 [==============================] - 0s 5ms/step - loss: 0.5617 - val_loss: 0.5628\n",
            "Epoch 21/100\n",
            "15/15 [==============================] - 0s 5ms/step - loss: 0.5604 - val_loss: 0.5616\n",
            "Epoch 22/100\n",
            "15/15 [==============================] - 0s 6ms/step - loss: 0.5592 - val_loss: 0.5604\n",
            "Epoch 23/100\n",
            "15/15 [==============================] - 0s 5ms/step - loss: 0.5579 - val_loss: 0.5592\n",
            "Epoch 24/100\n",
            "15/15 [==============================] - 0s 5ms/step - loss: 0.5567 - val_loss: 0.5581\n",
            "Epoch 25/100\n",
            "15/15 [==============================] - 0s 6ms/step - loss: 0.5556 - val_loss: 0.5569\n",
            "Epoch 26/100\n",
            "15/15 [==============================] - 0s 6ms/step - loss: 0.5543 - val_loss: 0.5559\n",
            "Epoch 27/100\n",
            "15/15 [==============================] - 0s 5ms/step - loss: 0.5532 - val_loss: 0.5547\n",
            "Epoch 28/100\n",
            "15/15 [==============================] - 0s 5ms/step - loss: 0.5521 - val_loss: 0.5539\n",
            "Epoch 29/100\n",
            "15/15 [==============================] - 0s 5ms/step - loss: 0.5512 - val_loss: 0.5527\n",
            "Epoch 30/100\n",
            "15/15 [==============================] - 0s 6ms/step - loss: 0.5504 - val_loss: 0.5521\n",
            "Epoch 31/100\n",
            "15/15 [==============================] - 0s 5ms/step - loss: 0.5493 - val_loss: 0.5512\n",
            "Epoch 32/100\n",
            "15/15 [==============================] - 0s 5ms/step - loss: 0.5484 - val_loss: 0.5503\n",
            "Epoch 33/100\n",
            "15/15 [==============================] - 0s 6ms/step - loss: 0.5476 - val_loss: 0.5497\n",
            "Epoch 34/100\n",
            "15/15 [==============================] - 0s 5ms/step - loss: 0.5468 - val_loss: 0.5486\n",
            "Epoch 35/100\n",
            "15/15 [==============================] - 0s 7ms/step - loss: 0.5453 - val_loss: 0.5461\n",
            "Epoch 36/100\n",
            "15/15 [==============================] - 0s 6ms/step - loss: 0.5423 - val_loss: 0.5425\n",
            "Epoch 37/100\n",
            "15/15 [==============================] - 0s 6ms/step - loss: 0.5384 - val_loss: 0.5381\n",
            "Epoch 38/100\n",
            "15/15 [==============================] - 0s 5ms/step - loss: 0.5340 - val_loss: 0.5335\n",
            "Epoch 39/100\n",
            "15/15 [==============================] - 0s 5ms/step - loss: 0.5296 - val_loss: 0.5296\n",
            "Epoch 40/100\n",
            "15/15 [==============================] - 0s 5ms/step - loss: 0.5260 - val_loss: 0.5262\n",
            "Epoch 41/100\n",
            "15/15 [==============================] - 0s 6ms/step - loss: 0.5232 - val_loss: 0.5240\n",
            "Epoch 42/100\n",
            "15/15 [==============================] - 0s 5ms/step - loss: 0.5212 - val_loss: 0.5220\n",
            "Epoch 43/100\n",
            "15/15 [==============================] - 0s 5ms/step - loss: 0.5193 - val_loss: 0.5202\n",
            "Epoch 44/100\n",
            "15/15 [==============================] - 0s 5ms/step - loss: 0.5181 - val_loss: 0.5193\n",
            "Epoch 45/100\n",
            "15/15 [==============================] - 0s 6ms/step - loss: 0.5168 - val_loss: 0.5178\n",
            "Epoch 46/100\n",
            "15/15 [==============================] - 0s 5ms/step - loss: 0.5156 - val_loss: 0.5170\n",
            "Epoch 47/100\n",
            "15/15 [==============================] - 0s 6ms/step - loss: 0.5147 - val_loss: 0.5162\n",
            "Epoch 48/100\n",
            "15/15 [==============================] - 0s 5ms/step - loss: 0.5137 - val_loss: 0.5151\n",
            "Epoch 49/100\n",
            "15/15 [==============================] - 0s 5ms/step - loss: 0.5132 - val_loss: 0.5145\n",
            "Epoch 50/100\n",
            "15/15 [==============================] - 0s 7ms/step - loss: 0.5124 - val_loss: 0.5141\n",
            "Epoch 51/100\n",
            "15/15 [==============================] - 0s 6ms/step - loss: 0.5118 - val_loss: 0.5132\n",
            "Epoch 52/100\n",
            "15/15 [==============================] - 0s 5ms/step - loss: 0.5112 - val_loss: 0.5125\n",
            "Epoch 53/100\n",
            "15/15 [==============================] - 0s 5ms/step - loss: 0.5106 - val_loss: 0.5119\n",
            "Epoch 54/100\n",
            "15/15 [==============================] - 0s 5ms/step - loss: 0.5102 - val_loss: 0.5117\n",
            "Epoch 55/100\n",
            "15/15 [==============================] - 0s 5ms/step - loss: 0.5099 - val_loss: 0.5111\n",
            "Epoch 56/100\n",
            "15/15 [==============================] - 0s 5ms/step - loss: 0.5092 - val_loss: 0.5109\n",
            "Epoch 57/100\n",
            "15/15 [==============================] - 0s 6ms/step - loss: 0.5089 - val_loss: 0.5105\n",
            "Epoch 58/100\n",
            "15/15 [==============================] - 0s 6ms/step - loss: 0.5084 - val_loss: 0.5101\n",
            "Epoch 59/100\n",
            "15/15 [==============================] - 0s 6ms/step - loss: 0.5082 - val_loss: 0.5096\n",
            "Epoch 60/100\n",
            "15/15 [==============================] - 0s 5ms/step - loss: 0.5077 - val_loss: 0.5093\n",
            "Epoch 61/100\n",
            "15/15 [==============================] - 0s 6ms/step - loss: 0.5073 - val_loss: 0.5086\n",
            "Epoch 62/100\n",
            "15/15 [==============================] - 0s 6ms/step - loss: 0.5069 - val_loss: 0.5085\n",
            "Epoch 63/100\n",
            "15/15 [==============================] - 0s 6ms/step - loss: 0.5066 - val_loss: 0.5081\n",
            "Epoch 64/100\n",
            "15/15 [==============================] - 0s 5ms/step - loss: 0.5062 - val_loss: 0.5074\n",
            "Epoch 65/100\n",
            "15/15 [==============================] - 0s 5ms/step - loss: 0.5060 - val_loss: 0.5074\n",
            "Epoch 66/100\n",
            "15/15 [==============================] - 0s 6ms/step - loss: 0.5055 - val_loss: 0.5066\n",
            "Epoch 67/100\n",
            "15/15 [==============================] - 0s 6ms/step - loss: 0.5052 - val_loss: 0.5066\n",
            "Epoch 68/100\n",
            "15/15 [==============================] - 0s 6ms/step - loss: 0.5047 - val_loss: 0.5059\n",
            "Epoch 69/100\n",
            "15/15 [==============================] - 0s 5ms/step - loss: 0.5043 - val_loss: 0.5058\n",
            "Epoch 70/100\n",
            "15/15 [==============================] - 0s 6ms/step - loss: 0.5043 - val_loss: 0.5054\n",
            "Epoch 71/100\n",
            "15/15 [==============================] - 0s 5ms/step - loss: 0.5040 - val_loss: 0.5053\n",
            "Epoch 72/100\n",
            "15/15 [==============================] - 0s 5ms/step - loss: 0.5037 - val_loss: 0.5053\n",
            "Epoch 73/100\n",
            "15/15 [==============================] - 0s 5ms/step - loss: 0.5032 - val_loss: 0.5046\n",
            "Epoch 74/100\n",
            "15/15 [==============================] - 0s 5ms/step - loss: 0.5031 - val_loss: 0.5044\n",
            "Epoch 75/100\n",
            "15/15 [==============================] - 0s 6ms/step - loss: 0.5026 - val_loss: 0.5039\n",
            "Epoch 76/100\n",
            "15/15 [==============================] - 0s 5ms/step - loss: 0.5025 - val_loss: 0.5038\n",
            "Epoch 77/100\n",
            "15/15 [==============================] - 0s 5ms/step - loss: 0.5022 - val_loss: 0.5034\n",
            "Epoch 78/100\n",
            "15/15 [==============================] - 0s 5ms/step - loss: 0.5021 - val_loss: 0.5032\n",
            "Epoch 79/100\n",
            "15/15 [==============================] - 0s 6ms/step - loss: 0.5018 - val_loss: 0.5031\n",
            "Epoch 80/100\n",
            "15/15 [==============================] - 0s 5ms/step - loss: 0.5014 - val_loss: 0.5028\n",
            "Epoch 81/100\n",
            "15/15 [==============================] - 0s 5ms/step - loss: 0.5011 - val_loss: 0.5021\n",
            "Epoch 82/100\n",
            "15/15 [==============================] - 0s 5ms/step - loss: 0.5007 - val_loss: 0.5023\n",
            "Epoch 83/100\n",
            "15/15 [==============================] - 0s 7ms/step - loss: 0.5007 - val_loss: 0.5017\n",
            "Epoch 84/100\n",
            "15/15 [==============================] - 0s 5ms/step - loss: 0.5003 - val_loss: 0.5022\n",
            "Epoch 85/100\n",
            "15/15 [==============================] - 0s 5ms/step - loss: 0.5002 - val_loss: 0.5015\n",
            "Epoch 86/100\n",
            "15/15 [==============================] - 0s 6ms/step - loss: 0.4999 - val_loss: 0.5013\n",
            "Epoch 87/100\n",
            "15/15 [==============================] - 0s 5ms/step - loss: 0.4995 - val_loss: 0.5007\n",
            "Epoch 88/100\n",
            "15/15 [==============================] - 0s 5ms/step - loss: 0.4993 - val_loss: 0.5006\n",
            "Epoch 89/100\n",
            "15/15 [==============================] - 0s 5ms/step - loss: 0.4991 - val_loss: 0.5005\n",
            "Epoch 90/100\n",
            "15/15 [==============================] - 0s 5ms/step - loss: 0.4988 - val_loss: 0.5001\n",
            "Epoch 91/100\n",
            "15/15 [==============================] - 0s 6ms/step - loss: 0.4987 - val_loss: 0.5003\n",
            "Epoch 92/100\n",
            "15/15 [==============================] - 0s 11ms/step - loss: 0.4986 - val_loss: 0.4998\n",
            "Epoch 93/100\n",
            "15/15 [==============================] - 0s 11ms/step - loss: 0.4983 - val_loss: 0.4995\n",
            "Epoch 94/100\n",
            "15/15 [==============================] - 0s 7ms/step - loss: 0.4983 - val_loss: 0.4994\n",
            "Epoch 95/100\n",
            "15/15 [==============================] - 0s 8ms/step - loss: 0.4977 - val_loss: 0.4989\n",
            "Epoch 96/100\n",
            "15/15 [==============================] - 0s 8ms/step - loss: 0.4977 - val_loss: 0.4991\n",
            "Epoch 97/100\n",
            "15/15 [==============================] - 0s 9ms/step - loss: 0.4973 - val_loss: 0.4987\n",
            "Epoch 98/100\n",
            "15/15 [==============================] - 0s 8ms/step - loss: 0.4969 - val_loss: 0.4985\n",
            "Epoch 99/100\n",
            "15/15 [==============================] - 0s 8ms/step - loss: 0.4967 - val_loss: 0.4980\n",
            "Epoch 100/100\n",
            "15/15 [==============================] - 0s 11ms/step - loss: 0.4965 - val_loss: 0.4977\n"
          ]
        },
        {
          "output_type": "execute_result",
          "data": {
            "text/plain": [
              "<keras.callbacks.History at 0x7f27a9efff70>"
            ]
          },
          "metadata": {},
          "execution_count": 26
        }
      ],
      "source": [
        "# train the model and reduce the dimension of the data (15 Points)\n",
        "autoencoder = keras.Model(input_data, decoded)\n",
        "\n",
        "# Create the decoder model\n",
        "autoencoder.compile(optimizer='adam', loss='binary_crossentropy')\n",
        "\n",
        "autoencoder.fit(X_train, X_train,\n",
        "                epochs=100,\n",
        "                batch_size=256,\n",
        "                shuffle=True,\n",
        "                validation_data=(X_test, X_test))\n"
      ]
    },
    {
      "cell_type": "code",
      "source": [],
      "metadata": {
        "id": "PfD6EhxIopu5"
      },
      "execution_count": null,
      "outputs": []
    },
    {
      "cell_type": "code",
      "execution_count": 27,
      "metadata": {
        "colab": {
          "base_uri": "https://localhost:8080/",
          "height": 613
        },
        "id": "Q8FpKCsqiq6n",
        "outputId": "a1c7d503-28fa-47ce-b7e0-6aac9f8854cd"
      },
      "outputs": [
        {
          "output_type": "stream",
          "name": "stdout",
          "text": [
            "51/51 [==============================] - 0s 1ms/step\n"
          ]
        },
        {
          "output_type": "display_data",
          "data": {
            "text/plain": [
              "<Figure size 720x720 with 2 Axes>"
            ],
            "image/png": "[encoded data removed]"
          },
          "metadata": {}
        }
      ],
      "source": [
        "# Plot the encoded data (10 Points)\n",
        "target_points = []\n",
        "# scatter plot points with respect to their target\n",
        "reduced_X = encoder.predict(X_test)\n",
        "\n",
        "# scatter plot\n",
        "plt.figure(figsize=(10,10))\n",
        "x,y = np.array(reduced_X).T\n",
        "plt.scatter(x,y, c=y_test, alpha = 0.4)\n",
        "plt.colorbar()\n",
        "plt.show()"
      ]
    }
  ],
  "metadata": {
    "colab": {
      "provenance": []
    },
    "kernelspec": {
      "display_name": "Python 3 (ipykernel)",
      "language": "python",
      "name": "python3"
    },
    "language_info": {
      "codemirror_mode": {
        "name": "ipython",
        "version": 3
      },
      "file_extension": ".py",
      "mimetype": "text/x-python",
      "name": "python",
      "nbconvert_exporter": "python",
      "pygments_lexer": "ipython3",
      "version": "3.9.6"
    },
    "vscode": {
      "interpreter": {
        "hash": "81794d4967e6c3204c66dcd87b604927b115b27c00565d3d43f05ba2f3a2cb0d"
      }
    },
    "accelerator": "GPU",
    "gpuClass": "standard"
  },
  "nbformat": 4,
  "nbformat_minor": 0
}