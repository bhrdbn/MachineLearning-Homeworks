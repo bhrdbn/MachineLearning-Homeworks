{
 "cells": [
  {
   "cell_type": "markdown",
   "id": "6baf2598",
   "metadata": {
    "ExecuteTime": {
     "end_time": "2022-10-22T21:06:33.084910Z",
     "start_time": "2022-10-22T21:06:33.065246Z"
    }
   },
   "source": [
    "<br><font face=\"Times New Roman\" size=5><div dir=ltr align=center>\n",
    "<font color=blue size=8>\n",
    "    Introduction to Machine Learning <br>\n",
    "<font color=red size=5>\n",
    "    Sharif University of Technology - Computer Engineering Department <br>\n",
    "    Fall 2022<br> <br>\n",
    "<font color=black size=6>\n",
    "    Homework 2: Practical - Decision Tree   \n",
    "<font color=black size=4>\n",
    "    Hamidreza Yaghoubi \n",
    "    \n",
    "<br><br>\n",
    "<font size=4>\n",
    "In this homework, we are going to implement the Classification Decision Tree. Keep in mind to complete all of the following questions and write your own codes in the TODO cells."
   ]
  },
  {
   "cell_type": "markdown",
   "id": "bd3871b7",
   "metadata": {},
   "source": [
    "<font face=\"Times New Roman\" size=4><div dir=ltr>\n",
    "# Problem 2: Classification Decision Tree (100 points)\n",
    "We will implement a Classification Decision Tree from scratch in the following problem. Then we will use our model to predict malignant and benign breast cancer. For this purpose, we will use the breast_cancer.csv dataset which you can find more details about it <a href=\"https://www.kaggle.com/datasets/merishnasuwal/breast-cancer-prediction-dataset\"><font face=\"Roboto\">here</font></a>."
   ]
  },
  {
   "cell_type": "code",
   "execution_count": 105,
   "id": "ccdebb27",
   "metadata": {
    "ExecuteTime": {
     "end_time": "2022-10-22T21:30:24.876526Z",
     "start_time": "2022-10-22T21:30:24.439793Z"
    }
   },
   "outputs": [],
   "source": [
    "import pandas as pd\n",
    "from sklearn.model_selection import train_test_split\n",
    "from sklearn.metrics import accuracy_score\n",
    "from math import log\n",
    "import random"
   ]
  },
  {
   "cell_type": "markdown",
   "id": "e2307c50",
   "metadata": {},
   "source": [
    "<font face=\"Times New Roman\" size=4><div dir=ltr>\n",
    "## Classification Decision Tree Class (60 points)\n",
    "In this section, you only need to fill TODO parts. You can find the logic and formula in both course slides and the web, but fill it out on your own. "
   ]
  },
  {
   "cell_type": "code",
   "execution_count": 106,
   "id": "618baebb",
   "metadata": {
    "ExecuteTime": {
     "end_time": "2022-10-22T21:30:25.034364Z",
     "start_time": "2022-10-22T21:30:25.021627Z"
    }
   },
   "outputs": [],
   "source": [
    "class Node:\n",
    "    def __init__(self, feature=None, threshold=None, left=None, right=None, value=None):\n",
    "        self.feature = feature\n",
    "        self.threshold = threshold\n",
    "        self.left = left\n",
    "        self.right = right\n",
    "        self.value = value\n",
    "\n",
    "    def is_leaf(self):\n",
    "        if self.value is not None:\n",
    "            return True\n",
    "        return False"
   ]
  },
  {
   "cell_type": "code",
   "execution_count": 107,
   "id": "71b3b483",
   "metadata": {
    "ExecuteTime": {
     "end_time": "2022-10-22T21:30:25.439792Z",
     "start_time": "2022-10-22T21:30:25.404649Z"
    }
   },
   "outputs": [],
   "source": [
    "class DecisionTree:\n",
    "    def __init__(self, max_depth=None, min_samples_split=2):\n",
    "        self.max_depth = max_depth\n",
    "        self.min_samples_split = min_samples_split\n",
    "        self.root = None\n",
    "\n",
    "    def is_splitting_finished(self, depth, num_class_labels, num_samples):\n",
    "        if num_samples<self.min_samples_split or depth==self.max_depth or num_class_labels==0:\n",
    "            return True\n",
    "\n",
    "        return False\n",
    "\n",
    "    def split(self, X, y, feature, threshold):\n",
    "        left_indexes = X[feature] <= threshold\n",
    "        right_indexes = -left_indexes\n",
    "        X_left = X.loc[left_indexes,X.columns != feature]\n",
    "        y_left = y[left_indexes]\n",
    "        X_right = X.loc[right_indexes,X.columns != feature]\n",
    "        y_right = y[right_indexes]\n",
    "\n",
    "        return X_left, X_right, y_left, y_right\n",
    "\n",
    "    def entropy(self, y):\n",
    "        ent=0\n",
    "        if(len(y)!=0):\n",
    "        \n",
    "          rel=sum(y==1)/len(y)\n",
    "        \n",
    "          if rel>1e-5:\n",
    "            \n",
    "              if rel<0.99999:\n",
    "                \n",
    "                 ent = -rel*log(rel)-(1-rel)*log(1-rel)\n",
    "            \n",
    "\n",
    "        return ent\n",
    "\n",
    "\n",
    "    def information_gain(self, X, y, feature, threshold):\n",
    "        X_left, X_right, y_left, y_right = self.split(X,y,feature,threshold)\n",
    "        p=len(y_left)/len(y)\n",
    "        H_y = self.entropy(y)\n",
    "        ig = H_y-p*self.entropy(y_left)-(1-p)*self.entropy(y_right)\n",
    "        \n",
    "        return ig\n",
    "\n",
    "    def best_split(self, X, y):\n",
    "\n",
    "        best= 0\n",
    "        best_feature = None\n",
    "        best_threshold=0\n",
    "        \n",
    "        for feature in X.columns:\n",
    "            min_col=X[feature].min()\n",
    "            max_col=X[feature].max()\n",
    "            for i in range(11):\n",
    "                tre=min_col+i*(max_col-min_col)/10\n",
    "                if tre<=max_col:\n",
    "                    res=self.information_gain(X,y,feature,tre)\n",
    "                if res>=best:\n",
    "                    best=res\n",
    "                    best_feature=feature\n",
    "                    best_threshold=tre\n",
    "                    \n",
    "            \n",
    "            \n",
    "        return best_feature, best_threshold\n",
    "\n",
    "    def build_tree(self, X, y, depth=0):\n",
    "        if self.is_splitting_finished(depth, len(X.columns), len(X)):\n",
    "            return None\n",
    "\n",
    "        best_feature, best_threshold = self.best_split(X, y)\n",
    "        X_left, X_right, y_left, y_right = self.split(X, y, best_feature, best_threshold)\n",
    "\n",
    "        left_node = self.build_tree(X_left, y_left, depth=depth + 1)\n",
    "        right_node = self.build_tree(X_right, y_right, depth=depth + 1)\n",
    "\n",
    "        value = None\n",
    "        if left_node is None or right_node is None:\n",
    "            true_value = sum(y==1)\n",
    "            false_value = sum(y==0)\n",
    "\n",
    "            if true_value >= false_value:\n",
    "                value = 1\n",
    "            else:\n",
    "                value = 0\n",
    "\n",
    "        return Node(feature=best_feature, threshold=best_threshold, left=left_node, right=right_node, value=value)\n",
    "\n",
    "    def fit(self, X, y):\n",
    "        self.root = self.build_tree(X, y)\n",
    "\n",
    "    def predict(self, X):\n",
    "        tree = self.root\n",
    "        predicted_value = []\n",
    "        for index in list(X.index):\n",
    "            data = X.loc[index]\n",
    "            current_tree = tree\n",
    "            for depth in range(self.max_depth):\n",
    "                if Node.is_leaf(current_tree):\n",
    "                    predicted_value.append(current_tree.value)\n",
    "                    break\n",
    "                feature = current_tree.feature\n",
    "                threshold = current_tree.threshold\n",
    "                if data[feature] <= threshold:\n",
    "                    current_tree = current_tree.left\n",
    "                if data[feature] > threshold:\n",
    "                    current_tree = current_tree.right\n",
    "\n",
    "        return predicted_value"
   ]
  },
  {
   "cell_type": "markdown",
   "id": "8e2197f0",
   "metadata": {},
   "source": [
    "<font face=\"Times New Roman\" size=4><div dir=ltr>\n",
    "## Data Prepration (20 points)\n",
    "In this section, you must perform a good EDA for data. Then split it into train and validation data. We will then use the validation data to find the best model hyperparameters.  "
   ]
  },
  {
   "cell_type": "code",
   "execution_count": 108,
   "id": "da5a4d94",
   "metadata": {
    "ExecuteTime": {
     "end_time": "2022-10-22T21:30:26.199958Z",
     "start_time": "2022-10-22T21:30:26.192910Z"
    }
   },
   "outputs": [],
   "source": [
    "breast_cancer_pdf = pd.read_csv(\"breast_cancer.csv\")"
   ]
  },
  {
   "cell_type": "code",
   "execution_count": 116,
   "id": "27207399",
   "metadata": {
    "ExecuteTime": {
     "end_time": "2022-10-22T21:30:28.478997Z",
     "start_time": "2022-10-22T21:30:28.476044Z"
    }
   },
   "outputs": [
    {
     "name": "stdout",
     "output_type": "stream",
     "text": [
      "<class 'pandas.core.frame.DataFrame'>\n",
      "RangeIndex: 569 entries, 0 to 568\n",
      "Data columns (total 6 columns):\n",
      " #   Column           Non-Null Count  Dtype  \n",
      "---  ------           --------------  -----  \n",
      " 0   mean_radius      569 non-null    float64\n",
      " 1   mean_texture     569 non-null    float64\n",
      " 2   mean_perimeter   569 non-null    float64\n",
      " 3   mean_area        569 non-null    float64\n",
      " 4   mean_smoothness  569 non-null    float64\n",
      " 5   diagnosis        569 non-null    int64  \n",
      "dtypes: float64(5), int64(1)\n",
      "memory usage: 26.8 KB\n",
      "12.34    4\n",
      "11.71    3\n",
      "12.46    3\n",
      "13.05    3\n",
      "10.26    3\n",
      "        ..\n",
      "12.23    1\n",
      "14.45    1\n",
      "19.18    1\n",
      "18.08    1\n",
      "7.76     1\n",
      "Name: mean_radius, Length: 456, dtype: int64\n",
      "20.52    3\n",
      "16.85    3\n",
      "16.84    3\n",
      "19.83    3\n",
      "14.93    3\n",
      "        ..\n",
      "18.58    1\n",
      "15.11    1\n",
      "22.41    1\n",
      "14.92    1\n",
      "24.54    1\n",
      "Name: mean_texture, Length: 479, dtype: int64\n",
      "82.61     3\n",
      "87.76     3\n",
      "134.70    3\n",
      "93.97     2\n",
      "82.69     2\n",
      "         ..\n",
      "127.50    1\n",
      "90.63     1\n",
      "82.53     1\n",
      "100.40    1\n",
      "47.92     1\n",
      "Name: mean_perimeter, Length: 522, dtype: int64\n",
      "512.2     3\n",
      "1075.0    2\n",
      "582.7     2\n",
      "399.8     2\n",
      "641.2     2\n",
      "         ..\n",
      "507.4     1\n",
      "609.9     1\n",
      "463.7     1\n",
      "428.9     1\n",
      "181.0     1\n",
      "Name: mean_area, Length: 539, dtype: int64\n",
      "0.10070    5\n",
      "0.11500    4\n",
      "0.10540    4\n",
      "0.10750    4\n",
      "0.10630    3\n",
      "          ..\n",
      "0.08876    1\n",
      "0.09965    1\n",
      "0.13230    1\n",
      "0.08968    1\n",
      "0.05263    1\n",
      "Name: mean_smoothness, Length: 474, dtype: int64\n",
      "1    357\n",
      "0    212\n",
      "Name: diagnosis, dtype: int64\n"
     ]
    },
    {
     "name": "stderr",
     "output_type": "stream",
     "text": [
      "C:\\Users\\ASUS\\AppData\\Local\\Temp\\ipykernel_10204\\2388996016.py:8: UserWarning: To output multiple subplots, the figure containing the passed axes is being cleared.\n",
      "  breast_cancer_pdf.hist(ax=ax)\n"
     ]
    },
    {
     "data": {
      "image/png": "[encoded data removed]",
      "text/plain": [
       "<Figure size 1080x1440 with 6 Axes>"
      ]
     },
     "metadata": {
      "needs_background": "light"
     },
     "output_type": "display_data"
    }
   ],
   "source": [
    "import matplotlib.pyplot as plt\n",
    "breast_cancer_pdf.head(20)\n",
    "breast_cancer_pdf.info()\n",
    "for column in breast_cancer_pdf.columns:\n",
    "    print(breast_cancer_pdf[column].value_counts())  \n",
    "fig = plt.figure(figsize = (15, 20))\n",
    "ax = fig.gca()\n",
    "breast_cancer_pdf.hist(ax=ax)\n",
    "plt.show()"
   ]
  },
  {
   "cell_type": "code",
   "execution_count": 115,
   "id": "ebe59a22",
   "metadata": {},
   "outputs": [
    {
     "name": "stdout",
     "output_type": "stream",
     "text": [
      "Requirement already satisfied: matplotlib in c:\\users\\asus\\appdata\\local\\programs\\python\\python39\\lib\\site-packages (3.5.2)\n",
      "Requirement already satisfied: numpy>=1.17 in c:\\users\\asus\\appdata\\local\\programs\\python\\python39\\lib\\site-packages (from matplotlib) (1.22.2)\n",
      "Requirement already satisfied: kiwisolver>=1.0.1 in c:\\users\\asus\\appdata\\local\\programs\\python\\python39\\lib\\site-packages (from matplotlib) (1.4.3)\n",
      "Requirement already satisfied: packaging>=20.0 in c:\\users\\asus\\appdata\\local\\programs\\python\\python39\\lib\\site-packages (from matplotlib) (21.3)\n",
      "Requirement already satisfied: pyparsing>=2.2.1 in c:\\users\\asus\\appdata\\local\\programs\\python\\python39\\lib\\site-packages (from matplotlib) (3.0.7)\n",
      "Requirement already satisfied: fonttools>=4.22.0 in c:\\users\\asus\\appdata\\local\\programs\\python\\python39\\lib\\site-packages (from matplotlib) (4.34.4)\n",
      "Requirement already satisfied: cycler>=0.10 in c:\\users\\asus\\appdata\\local\\programs\\python\\python39\\lib\\site-packages (from matplotlib) (0.11.0)\n",
      "Requirement already satisfied: pillow>=6.2.0 in c:\\users\\asus\\appdata\\local\\programs\\python\\python39\\lib\\site-packages (from matplotlib) (9.2.0)\n",
      "Requirement already satisfied: python-dateutil>=2.7 in c:\\users\\asus\\appdata\\local\\programs\\python\\python39\\lib\\site-packages (from matplotlib) (2.8.2)\n",
      "Requirement already satisfied: six>=1.5 in c:\\users\\asus\\appdata\\local\\programs\\python\\python39\\lib\\site-packages (from python-dateutil>=2.7->matplotlib) (1.16.0)\n"
     ]
    },
    {
     "name": "stderr",
     "output_type": "stream",
     "text": [
      "WARNING: You are using pip version 21.2.3; however, version 22.3 is available.\n",
      "You should consider upgrading via the 'C:\\Users\\ASUS\\AppData\\Local\\Programs\\Python\\Python39\\python.exe -m pip install --upgrade pip' command.\n"
     ]
    }
   ],
   "source": [
    "!pip install matplotlib"
   ]
  },
  {
   "cell_type": "code",
   "execution_count": 110,
   "id": "39ba4c34",
   "metadata": {
    "ExecuteTime": {
     "end_time": "2022-10-22T21:30:38.003703Z",
     "start_time": "2022-10-22T21:30:37.996292Z"
    },
    "collapsed": true
   },
   "outputs": [],
   "source": [
    "\n",
    "X = breast_cancer_pdf.iloc[:,:-1]\n",
    "\n",
    "y = breast_cancer_pdf.iloc[:,-1]\n",
    "\n",
    "x_train, x_val, y_train, y_val = train_test_split(X, y, test_size=0.70, random_state=42)\n"
   ]
  },
  {
   "cell_type": "markdown",
   "id": "cefd7a92",
   "metadata": {},
   "source": [
    "<font face=\"Times New Roman\" size=4><div dir=ltr>\n",
    "## Training And Tuning Hyperparameters (20 points)\n",
    "In this section, you only need to find the best hyperparameters for your model. You can test different values and permutations of hyperparameters by adding them to the lists below. Your model must have at least accuracy=0.85 on validation data."
   ]
  },
  {
   "cell_type": "code",
   "execution_count": 111,
   "id": "assigned-estate",
   "metadata": {
    "ExecuteTime": {
     "end_time": "2022-10-22T21:36:15.733600Z",
     "start_time": "2022-10-22T21:36:15.730426Z"
    }
   },
   "outputs": [],
   "source": [
    "max_depths = [3,5,10]\n",
    "min_samples_splits = [1, 5,10,20]"
   ]
  },
  {
   "cell_type": "code",
   "execution_count": 112,
   "id": "58003410",
   "metadata": {
    "scrolled": true
   },
   "outputs": [
    {
     "name": "stdout",
     "output_type": "stream",
     "text": [
      "accuracy of training set for [min_samples_splits=???-max_depths=???] =0.8588235294117647\n",
      "accuracy of validation set for [min_samples_splits=???-max_depths=???] =0.9022556390977443\n",
      "------------------------------------------------\n",
      "accuracy of training set for [min_samples_splits=???-max_depths=???] =0.8588235294117647\n",
      "accuracy of validation set for [min_samples_splits=???-max_depths=???] =0.9022556390977443\n",
      "------------------------------------------------\n",
      "accuracy of training set for [min_samples_splits=???-max_depths=???] =0.8470588235294118\n",
      "accuracy of validation set for [min_samples_splits=???-max_depths=???] =0.899749373433584\n",
      "------------------------------------------------\n",
      "accuracy of training set for [min_samples_splits=???-max_depths=???] =0.8470588235294118\n",
      "accuracy of validation set for [min_samples_splits=???-max_depths=???] =0.899749373433584\n",
      "------------------------------------------------\n",
      "accuracy of training set for [min_samples_splits=???-max_depths=???] =0.9352941176470588\n",
      "accuracy of validation set for [min_samples_splits=???-max_depths=???] =0.9323308270676691\n",
      "------------------------------------------------\n",
      "accuracy of training set for [min_samples_splits=???-max_depths=???] =0.9058823529411765\n",
      "accuracy of validation set for [min_samples_splits=???-max_depths=???] =0.9323308270676691\n",
      "------------------------------------------------\n",
      "accuracy of training set for [min_samples_splits=???-max_depths=???] =0.888235294117647\n",
      "accuracy of validation set for [min_samples_splits=???-max_depths=???] =0.8972431077694235\n",
      "------------------------------------------------\n",
      "accuracy of training set for [min_samples_splits=???-max_depths=???] =0.8470588235294118\n",
      "accuracy of validation set for [min_samples_splits=???-max_depths=???] =0.899749373433584\n",
      "------------------------------------------------\n",
      "accuracy of training set for [min_samples_splits=???-max_depths=???] =0.9352941176470588\n",
      "accuracy of validation set for [min_samples_splits=???-max_depths=???] =0.9323308270676691\n",
      "------------------------------------------------\n",
      "accuracy of training set for [min_samples_splits=???-max_depths=???] =0.9058823529411765\n",
      "accuracy of validation set for [min_samples_splits=???-max_depths=???] =0.9323308270676691\n",
      "------------------------------------------------\n",
      "accuracy of training set for [min_samples_splits=???-max_depths=???] =0.888235294117647\n",
      "accuracy of validation set for [min_samples_splits=???-max_depths=???] =0.8972431077694235\n",
      "------------------------------------------------\n",
      "accuracy of training set for [min_samples_splits=???-max_depths=???] =0.8470588235294118\n",
      "accuracy of validation set for [min_samples_splits=???-max_depths=???] =0.899749373433584\n",
      "------------------------------------------------\n"
     ]
    }
   ],
   "source": [
    "best_max_depth = None\n",
    "best_min_samples_split = None\n",
    "best_accuracy = 0\n",
    "best_model = None\n",
    "for max_depth in max_depths:\n",
    "    for min_samples_split in min_samples_splits:\n",
    "        clf = DecisionTree(max_depth, min_samples_split)\n",
    "        clf.fit(x_train, y_train)\n",
    "        y_val_pred = clf.predict(x_val)\n",
    "        y_train_pred = clf.predict(x_train)\n",
    "        accuracy = accuracy_score(y_val_pred, y_val)\n",
    "        train_accuracy = accuracy_score(y_train_pred, y_train)\n",
    "        print(f\"accuracy of training set for [min_samples_splits=???-max_depths=???] ={train_accuracy}\")\n",
    "        print(f\"accuracy of validation set for [min_samples_splits=???-max_depths=???] ={accuracy}\")\n",
    "        print(\"------------------------------------------------\")\n",
    "        if accuracy >= best_accuracy:\n",
    "            best_accuracy = accuracy\n",
    "            best_max_depth = max_depth\n",
    "            best_min_samples_split = min_samples_split\n",
    "            best_model = clf"
   ]
  },
  {
   "cell_type": "code",
   "execution_count": null,
   "id": "64e48c3c",
   "metadata": {},
   "outputs": [],
   "source": []
  }
 ],
 "metadata": {
  "kernelspec": {
   "display_name": "Python 3 (ipykernel)",
   "language": "python",
   "name": "python3"
  },
  "language_info": {
   "codemirror_mode": {
    "name": "ipython",
    "version": 3
   },
   "file_extension": ".py",
   "mimetype": "text/x-python",
   "name": "python",
   "nbconvert_exporter": "python",
   "pygments_lexer": "ipython3",
   "version": "3.9.7"
  },
  "toc": {
   "base_numbering": 1,
   "nav_menu": {},
   "number_sections": true,
   "sideBar": true,
   "skip_h1_title": false,
   "title_cell": "Table of Contents",
   "title_sidebar": "Contents",
   "toc_cell": false,
   "toc_position": {},
   "toc_section_display": true,
   "toc_window_display": false
  },
  "varInspector": {
   "cols": {
    "lenName": 16,
    "lenType": 16,
    "lenVar": 40
   },
   "kernels_config": {
    "python": {
     "delete_cmd_postfix": "",
     "delete_cmd_prefix": "del ",
     "library": "var_list.py",
     "varRefreshCmd": "print(var_dic_list())"
    },
    "r": {
     "delete_cmd_postfix": ") ",
     "delete_cmd_prefix": "rm(",
     "library": "var_list.r",
     "varRefreshCmd": "cat(var_dic_list()) "
    }
   },
   "types_to_exclude": [
    "module",
    "function",
    "builtin_function_or_method",
    "instance",
    "_Feature"
   ],
   "window_display": false
  }
 },
 "nbformat": 4,
 "nbformat_minor": 5
}
